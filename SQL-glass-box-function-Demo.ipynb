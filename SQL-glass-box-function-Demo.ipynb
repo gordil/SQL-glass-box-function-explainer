{
 "cells": [
  {
   "cell_type": "markdown",
   "metadata": {
    "application/vnd.databricks.v1+cell": {
     "cellMetadata": {},
     "inputWidgets": {},
     "nuid": "770ed5a9-ca9f-40dd-8e98-4e8cf9216aac",
     "showTitle": false,
     "tableResultSettingsMap": {},
     "title": ""
    }
   },
   "source": [
    "### Key features\n",
    "- SQL syntax highlighting for improved readability\n",
    "- Direct integration with Spark SQL for optimized execution\n",
    "- Seamless interoperability between Python and SQL\n",
    "\n",
    "**By combining SQL's declarative power with Python's flexibility, this approach offers:**\n",
    "- Enhanced developer experience through immediate visual validation\n",
    "- Improved governance and auditability of data transformations\n",
    "- Efficient debugging and knowledge transfer within data teams\n",
    "- Maintained performance through native Spark SQL execution"
   ]
  },
  {
   "cell_type": "code",
   "execution_count": 0,
   "metadata": {
    "application/vnd.databricks.v1+cell": {
     "cellMetadata": {
      "byteLimit": 2048000,
      "rowLimit": 10000
     },
     "inputWidgets": {},
     "nuid": "ccc5d1d6-e93d-49be-905c-445bc13cefaa",
     "showTitle": true,
     "tableResultSettingsMap": {},
     "title": "install SQLGlassBoxFunction"
    }
   },
   "outputs": [
    {
     "output_type": "stream",
     "name": "stdout",
     "output_type": "stream",
     "text": [
      "Python interpreter will be restarted.\nCollecting SQLGlassBoxFunction\n  Using cached SQLGlassBoxFunction-0.1.4-py3-none-any.whl (5.3 kB)\nInstalling collected packages: SQLGlassBoxFunction\nSuccessfully installed SQLGlassBoxFunction-0.1.4\nPython interpreter will be restarted.\n"
     ]
    }
   ],
   "source": [
    "pip install SQLGlassBoxFunction"
   ]
  },
  {
   "cell_type": "code",
   "execution_count": 0,
   "metadata": {
    "application/vnd.databricks.v1+cell": {
     "cellMetadata": {
      "byteLimit": 2048000,
      "rowLimit": 10000
     },
     "inputWidgets": {},
     "nuid": "24d92a46-8f36-453d-aa20-3c16c65ecb42",
     "showTitle": true,
     "tableResultSettingsMap": {},
     "title": "import sql SQLGlassBoxFunction"
    }
   },
   "outputs": [],
   "source": [
    "from SQLGlassBoxFunction import sql"
   ]
  },
  {
   "cell_type": "code",
   "execution_count": 0,
   "metadata": {
    "application/vnd.databricks.v1+cell": {
     "cellMetadata": {
      "byteLimit": 2048000,
      "rowLimit": 10000
     },
     "inputWidgets": {},
     "nuid": "034b679e-18fb-499d-b13a-1bb4941ee5ef",
     "showTitle": true,
     "tableResultSettingsMap": {},
     "title": "Optional Configs"
    }
   },
   "outputs": [],
   "source": [
    "import os\n",
    "os.environ['SQL_GBF_WRITE_TO_LOG_FILE'] = 'True'\n",
    "os.environ['SQL_GBF_DRY_RUN'] = 'False'\n",
    "os.environ['SQL_GBF_QUERY_LOG_FILE'] = 'sql_log_demo.txt'"
   ]
  },
  {
   "cell_type": "code",
   "execution_count": 0,
   "metadata": {
    "application/vnd.databricks.v1+cell": {
     "cellMetadata": {
      "byteLimit": 2048000,
      "rowLimit": 10000
     },
     "inputWidgets": {},
     "nuid": "9709c392-e891-433e-8766-4a034c91de87",
     "showTitle": false,
     "tableResultSettingsMap": {},
     "title": ""
    }
   },
   "outputs": [],
   "source": [
    "%run ./SourceData"
   ]
  },
  {
   "cell_type": "code",
   "execution_count": 0,
   "metadata": {
    "application/vnd.databricks.v1+cell": {
     "cellMetadata": {
      "byteLimit": 2048000,
      "rowLimit": 10000
     },
     "inputWidgets": {},
     "nuid": "e3a3a2a8-93c3-4290-85a3-67b42df6764c",
     "showTitle": false,
     "tableResultSettingsMap": {},
     "title": ""
    }
   },
   "outputs": [
    {
     "output_type": "display_data",
     "data": {
      "text/html": [
       "<style scoped>\n",
       "  .table-result-container {\n",
       "    max-height: 300px;\n",
       "    overflow: auto;\n",
       "  }\n",
       "  table, th, td {\n",
       "    border: 1px solid black;\n",
       "    border-collapse: collapse;\n",
       "  }\n",
       "  th, td {\n",
       "    padding: 5px;\n",
       "  }\n",
       "  th {\n",
       "    text-align: left;\n",
       "  }\n",
       "</style><div class='table-result-container'><table class='table-result'><thead style='background-color: white'><tr></tr></thead><tbody></tbody></table></div>"
      ]
     },
     "metadata": {
      "application/vnd.databricks.v1+output": {
       "addedWidgets": {},
       "aggData": [],
       "aggError": "",
       "aggOverflow": false,
       "aggSchema": [],
       "aggSeriesLimitReached": false,
       "aggType": "",
       "arguments": {},
       "columnCustomDisplayInfos": {},
       "data": [],
       "datasetInfos": [],
       "dbfsResultPath": null,
       "isJsonSchema": true,
       "metadata": {},
       "overflow": false,
       "plotOptions": {
        "customPlotOptions": {},
        "displayType": "table",
        "pivotAggregation": null,
        "pivotColumns": null,
        "xColumns": null,
        "yColumns": null
       },
       "removedWidgets": [],
       "schema": [],
       "type": "table"
      }
     },
     "output_type": "display_data"
    }
   ],
   "source": [
    "%run ./NewApproach-Commons"
   ]
  },
  {
   "cell_type": "markdown",
   "metadata": {
    "application/vnd.databricks.v1+cell": {
     "cellMetadata": {},
     "inputWidgets": {},
     "nuid": "4bb235d5-f519-4707-bb0f-de63d40d1f27",
     "showTitle": false,
     "tableResultSettingsMap": {},
     "title": ""
    }
   },
   "source": [
    "##Example function call"
   ]
  },
  {
   "cell_type": "code",
   "execution_count": 0,
   "metadata": {
    "application/vnd.databricks.v1+cell": {
     "cellMetadata": {
      "byteLimit": 2048000,
      "rowLimit": 10000
     },
     "inputWidgets": {},
     "nuid": "60e7a76a-8ca7-4dc1-a892-fb5fdb1654ca",
     "showTitle": true,
     "tableResultSettingsMap": {},
     "title": "validate_order_id"
    }
   },
   "outputs": [
    {
     "output_type": "stream",
     "name": "stdout",
     "output_type": "stream",
     "text": [
      "\n        \u001B[35mCREATE\u001B[0m \u001B[35mOR\u001B[0m \u001B[35mREPLACE\u001B[0m \u001B[35mTEMP\u001B[0m \u001B[35mVIEW\u001B[0m vw_validate_order_id \u001B[35mAS\u001B[0m\n        \u001B[35mSELECT\u001B[0m  * EXCEPT (validity),\n        CASE\n            WHEN order_id <= \u001B[34m0\u001B[0m THEN \u001B[32m'Invalid Order ID'\u001B[0m\n            ELSE validity \n        END \u001B[35mAS\u001B[0m validity\n        \u001B[35mFROM\u001B[0m vw_SourceData;\n    \nLog file path: sql_log_demo.txt\n\u001B[36mSQL Log File location: /databricks/driver/sql_log_demo.txt\u001B[0m\n"
     ]
    }
   ],
   "source": [
    "# Assuming the initial data is loaded into a temporary view called \"input_vw\"\n",
    "input_vw = \"vw_SourceData\"  # Replace with the actual input view name\n",
    "\n",
    "# Apply all validations in sequence\n",
    "vw_with_order_id = validate_order_id(input_vw)"
   ]
  },
  {
   "cell_type": "markdown",
   "metadata": {
    "application/vnd.databricks.v1+cell": {
     "cellMetadata": {},
     "inputWidgets": {},
     "nuid": "09a975c6-613e-4522-bb4a-f5c484ae507f",
     "showTitle": false,
     "tableResultSettingsMap": {},
     "title": ""
    }
   },
   "source": [
    "### Benefit 1 : Transparency helps in quick knowlwdge transfer"
   ]
  },
  {
   "cell_type": "code",
   "execution_count": 0,
   "metadata": {
    "application/vnd.databricks.v1+cell": {
     "cellMetadata": {
      "byteLimit": 2048000,
      "rowLimit": 10000
     },
     "inputWidgets": {},
     "nuid": "151e5a57-9b14-4dc7-b34e-668e6160105d",
     "showTitle": true,
     "tableResultSettingsMap": {},
     "title": "validate_quantity"
    }
   },
   "outputs": [
    {
     "output_type": "stream",
     "name": "stdout",
     "output_type": "stream",
     "text": [
      "\n        \u001B[35mCREATE\u001B[0m \u001B[35mOR\u001B[0m \u001B[35mREPLACE\u001B[0m \u001B[35mTEMP\u001B[0m \u001B[35mVIEW\u001B[0m vw_validate_quantity \u001B[35mAS\u001B[0m\n        \u001B[35mSELECT\u001B[0m  * EXCEPT (validity),\n        CASE\n            WHEN quantity <= \u001B[34m0\u001B[0m THEN \u001B[32m'Invalid Quantity'\u001B[0m\n            ELSE validity \n        END \u001B[35mAS\u001B[0m validity\n        \u001B[35mFROM\u001B[0m vw_validate_order_id;\n    \nLog file path: sql_log_demo.txt\n\u001B[36mSQL Log File location: /databricks/driver/sql_log_demo.txt\u001B[0m\n"
     ]
    }
   ],
   "source": [
    "vw_with_quantity = validate_quantity(vw_with_order_id)"
   ]
  },
  {
   "cell_type": "markdown",
   "metadata": {
    "application/vnd.databricks.v1+cell": {
     "cellMetadata": {},
     "inputWidgets": {},
     "nuid": "b073f656-93ea-4956-8dee-e7dd4c9919c7",
     "showTitle": false,
     "tableResultSettingsMap": {},
     "title": ""
    }
   },
   "source": [
    "### Benefit 2 : Perform easy logging of transformation logics for future audit or debugging issues"
   ]
  },
  {
   "cell_type": "code",
   "execution_count": 0,
   "metadata": {
    "application/vnd.databricks.v1+cell": {
     "cellMetadata": {
      "byteLimit": 2048000,
      "rowLimit": 10000
     },
     "inputWidgets": {},
     "nuid": "8bf94501-ad91-443b-ac6a-379c58f6ef55",
     "showTitle": false,
     "tableResultSettingsMap": {},
     "title": ""
    }
   },
   "outputs": [
    {
     "output_type": "stream",
     "name": "stdout",
     "output_type": "stream",
     "text": [
      "\n        \u001B[35mCREATE\u001B[0m \u001B[35mOR\u001B[0m \u001B[35mREPLACE\u001B[0m \u001B[35mTEMP\u001B[0m \u001B[35mVIEW\u001B[0m vw_validate_phone_number \u001B[35mAS\u001B[0m\n        \u001B[35mSELECT\u001B[0m  * EXCEPT (validity),\n        CASE\n            WHEN LENGTH(phone_number) != \u001B[34m10\u001B[0m THEN \u001B[32m'Invalid Phone Number'\u001B[0m\n            ELSE validity \n        END \u001B[35mAS\u001B[0m validity\n        \u001B[35mFROM\u001B[0m vw_validate_quantity;\n    \nLog file path: sql_log_demo.txt\n\u001B[36mSQL Log File location: /databricks/driver/sql_log_demo.txt\u001B[0m\n"
     ]
    }
   ],
   "source": [
    "vw_with_phone_number = validate_phone_number(vw_with_quantity)"
   ]
  },
  {
   "cell_type": "markdown",
   "metadata": {
    "application/vnd.databricks.v1+cell": {
     "cellMetadata": {},
     "inputWidgets": {},
     "nuid": "0c3ec0e5-6ed3-4821-b356-9f2e1df8501d",
     "showTitle": false,
     "tableResultSettingsMap": {},
     "title": ""
    }
   },
   "source": [
    "### Benefit 3 : Easy to analyze and perform debugging and enhancements"
   ]
  },
  {
   "cell_type": "code",
   "execution_count": 0,
   "metadata": {
    "application/vnd.databricks.v1+cell": {
     "cellMetadata": {
      "byteLimit": 2048000,
      "rowLimit": 10000
     },
     "inputWidgets": {},
     "nuid": "ab8521f6-537b-47c2-be5a-dbebed97f085",
     "showTitle": true,
     "tableResultSettingsMap": {},
     "title": "validate_email"
    }
   },
   "outputs": [
    {
     "output_type": "stream",
     "name": "stdout",
     "output_type": "stream",
     "text": [
      "\n        \u001B[35mCREATE\u001B[0m \u001B[35mOR\u001B[0m \u001B[35mREPLACE\u001B[0m \u001B[35mTEMP\u001B[0m \u001B[35mVIEW\u001B[0m vw_validate_email \u001B[35mAS\u001B[0m\n        \u001B[35mSELECT\u001B[0m  * EXCEPT (validity),\n        CASE\n            WHEN customer_email \u001B[35mIS NULL\u001B[0m \u001B[35mOR\u001B[0m customer_email = \u001B[32m''\u001B[0m THEN \u001B[32m'Missing Email'\u001B[0m\n            ELSE validity \n        END \u001B[35mAS\u001B[0m validity\n        \u001B[35mFROM\u001B[0m vw_validate_phone_number;\n    \nLog file path: sql_log_demo.txt\n\u001B[36mSQL Log File location: /databricks/driver/sql_log_demo.txt\u001B[0m\n"
     ]
    }
   ],
   "source": [
    "vw_with_email = validate_email(vw_with_phone_number)"
   ]
  },
  {
   "cell_type": "markdown",
   "metadata": {
    "application/vnd.databricks.v1+cell": {
     "cellMetadata": {},
     "inputWidgets": {},
     "nuid": "5c5dd432-d472-46ff-80f7-3b21cce1187c",
     "showTitle": false,
     "tableResultSettingsMap": {},
     "title": ""
    }
   },
   "source": [
    "### Benefit 4 : Syntax higlighting SQL for better readability"
   ]
  },
  {
   "cell_type": "code",
   "execution_count": 0,
   "metadata": {
    "application/vnd.databricks.v1+cell": {
     "cellMetadata": {
      "byteLimit": 2048000,
      "rowLimit": 10000
     },
     "inputWidgets": {},
     "nuid": "d08c7e8b-fadd-467b-b423-cf9181e8d0fb",
     "showTitle": true,
     "tableResultSettingsMap": {},
     "title": "validate_order_date"
    }
   },
   "outputs": [
    {
     "output_type": "stream",
     "name": "stdout",
     "output_type": "stream",
     "text": [
      "\n        \u001B[35mCREATE\u001B[0m \u001B[35mOR\u001B[0m \u001B[35mREPLACE\u001B[0m \u001B[35mTEMP\u001B[0m \u001B[35mVIEW\u001B[0m vw_validate_order_date \u001B[35mAS\u001B[0m\n        \u001B[35mSELECT\u001B[0m  * EXCEPT (validity),\n        CASE\n            WHEN order_date > CURRENT_DATE THEN \u001B[32m'Order Date is in the Future'\u001B[0m\n            ELSE validity \n        END \u001B[35mAS\u001B[0m validity\n        \u001B[35mFROM\u001B[0m vw_validate_email;\n    \nLog file path: sql_log_demo.txt\n\u001B[36mSQL Log File location: /databricks/driver/sql_log_demo.txt\u001B[0m\n"
     ]
    }
   ],
   "source": [
    "vw_with_order_date = validate_order_date(vw_with_email)"
   ]
  },
  {
   "cell_type": "markdown",
   "metadata": {
    "application/vnd.databricks.v1+cell": {
     "cellMetadata": {},
     "inputWidgets": {},
     "nuid": "1d343c3d-7687-472d-a04f-c26bd84ab473",
     "showTitle": false,
     "tableResultSettingsMap": {},
     "title": ""
    }
   },
   "source": [
    "### Benefit 5: Make easy decisions without too much digging"
   ]
  },
  {
   "cell_type": "code",
   "execution_count": 0,
   "metadata": {
    "application/vnd.databricks.v1+cell": {
     "cellMetadata": {
      "byteLimit": 2048000,
      "rowLimit": 10000
     },
     "inputWidgets": {},
     "nuid": "529eb0e2-d074-40bb-831f-584357e74997",
     "showTitle": true,
     "tableResultSettingsMap": {},
     "title": "validate_discount_percentage"
    }
   },
   "outputs": [
    {
     "output_type": "stream",
     "name": "stdout",
     "output_type": "stream",
     "text": [
      "\n        \u001B[35mCREATE\u001B[0m \u001B[35mOR\u001B[0m \u001B[35mREPLACE\u001B[0m \u001B[35mTEMP\u001B[0m \u001B[35mVIEW\u001B[0m vw_validate_discount_percentage \u001B[35mAS\u001B[0m\n        \u001B[35mSELECT\u001B[0m  * EXCEPT (validity),\n        CASE\n            WHEN discount_percentage < \u001B[34m0\u001B[0m \u001B[35mOR\u001B[0m discount_percentage > \u001B[34m50\u001B[0m THEN \u001B[32m'Invalid Discount Percentage'\u001B[0m\n            ELSE validity \n        END \u001B[35mAS\u001B[0m validity\n        \u001B[35mFROM\u001B[0m vw_validate_order_date;\n    \nLog file path: sql_log_demo.txt\n\u001B[36mSQL Log File location: /databricks/driver/sql_log_demo.txt\u001B[0m\n"
     ]
    },
    {
     "output_type": "display_data",
     "data": {
      "text/html": [
       "<style scoped>\n",
       "  .table-result-container {\n",
       "    max-height: 300px;\n",
       "    overflow: auto;\n",
       "  }\n",
       "  table, th, td {\n",
       "    border: 1px solid black;\n",
       "    border-collapse: collapse;\n",
       "  }\n",
       "  th, td {\n",
       "    padding: 5px;\n",
       "  }\n",
       "  th {\n",
       "    text-align: left;\n",
       "  }\n",
       "</style><div class='table-result-container'><table class='table-result'><thead style='background-color: white'><tr><th>validity</th><th>order_id</th><th>customer_name</th><th>customer_email</th><th>phone_number</th><th>order_date</th><th>total_amount</th><th>quantity</th><th>discount_percentage</th><th>validity</th></tr></thead><tbody><tr><td>valid</td><td>1</td><td>John Doe</td><td>john.doe@example.com</td><td>1234567890</td><td>2025-02-06</td><td>150.0</td><td>3</td><td>10</td><td>valid</td></tr><tr><td>Invalid Quantity</td><td>2</td><td>Jane Smith</td><td>jane.smith@example.com</td><td>9876543210</td><td>2025-02-06</td><td>200.0</td><td>-2</td><td>15</td><td>Invalid Quantity</td></tr><tr><td>Missing Email</td><td>3</td><td>Alice Johnson</td><td></td><td>1112233445</td><td>2025-02-06</td><td>120.0</td><td>5</td><td>30</td><td>Missing Email</td></tr><tr><td>Invalid Discount Percentage</td><td>4</td><td>Bob Lee</td><td>bob.lee@example.com</td><td>12345abcde</td><td>2025-02-06</td><td>90.0</td><td>4</td><td>60</td><td>Invalid Discount Percentage</td></tr><tr><td>valid</td><td>5</td><td>Charlie Brown</td><td>charlie.brown@example.com</td><td>5551234567</td><td>2025-02-07</td><td>250.0</td><td>1</td><td>20</td><td>valid</td></tr><tr><td>Invalid Discount Percentage</td><td>6</td><td>David Clark</td><td>david.clark@example.com</td><td>1112233445</td><td>2025-02-06</td><td>180.0</td><td>3</td><td>-10</td><td>Invalid Discount Percentage</td></tr><tr><td>valid</td><td>7</td><td>Emma White</td><td>emma.white@example.com</td><td>3334445555</td><td>2025-02-06</td><td>100.0</td><td>2</td><td>25</td><td>valid</td></tr></tbody></table></div>"
      ]
     },
     "metadata": {
      "application/vnd.databricks.v1+output": {
       "addedWidgets": {},
       "aggData": [],
       "aggError": "",
       "aggOverflow": false,
       "aggSchema": [],
       "aggSeriesLimitReached": false,
       "aggType": "",
       "arguments": {},
       "columnCustomDisplayInfos": {},
       "data": [
        [
         "valid",
         1,
         "John Doe",
         "john.doe@example.com",
         "1234567890",
         "2025-02-06",
         "150.0",
         3,
         10,
         "valid"
        ],
        [
         "Invalid Quantity",
         2,
         "Jane Smith",
         "jane.smith@example.com",
         "9876543210",
         "2025-02-06",
         "200.0",
         -2,
         15,
         "Invalid Quantity"
        ],
        [
         "Missing Email",
         3,
         "Alice Johnson",
         "",
         "1112233445",
         "2025-02-06",
         "120.0",
         5,
         30,
         "Missing Email"
        ],
        [
         "Invalid Discount Percentage",
         4,
         "Bob Lee",
         "bob.lee@example.com",
         "12345abcde",
         "2025-02-06",
         "90.0",
         4,
         60,
         "Invalid Discount Percentage"
        ],
        [
         "valid",
         5,
         "Charlie Brown",
         "charlie.brown@example.com",
         "5551234567",
         "2025-02-07",
         "250.0",
         1,
         20,
         "valid"
        ],
        [
         "Invalid Discount Percentage",
         6,
         "David Clark",
         "david.clark@example.com",
         "1112233445",
         "2025-02-06",
         "180.0",
         3,
         -10,
         "Invalid Discount Percentage"
        ],
        [
         "valid",
         7,
         "Emma White",
         "emma.white@example.com",
         "3334445555",
         "2025-02-06",
         "100.0",
         2,
         25,
         "valid"
        ]
       ],
       "datasetInfos": [],
       "dbfsResultPath": null,
       "isJsonSchema": true,
       "metadata": {},
       "overflow": false,
       "plotOptions": {
        "customPlotOptions": {},
        "displayType": "table",
        "pivotAggregation": null,
        "pivotColumns": null,
        "xColumns": null,
        "yColumns": null
       },
       "removedWidgets": [],
       "schema": [
        {
         "metadata": "{}",
         "name": "validity",
         "type": "\"string\""
        },
        {
         "metadata": "{}",
         "name": "order_id",
         "type": "\"integer\""
        },
        {
         "metadata": "{}",
         "name": "customer_name",
         "type": "\"string\""
        },
        {
         "metadata": "{}",
         "name": "customer_email",
         "type": "\"string\""
        },
        {
         "metadata": "{}",
         "name": "phone_number",
         "type": "\"string\""
        },
        {
         "metadata": "{}",
         "name": "order_date",
         "type": "\"string\""
        },
        {
         "metadata": "{}",
         "name": "total_amount",
         "type": "\"decimal(4,1)\""
        },
        {
         "metadata": "{}",
         "name": "quantity",
         "type": "\"integer\""
        },
        {
         "metadata": "{}",
         "name": "discount_percentage",
         "type": "\"integer\""
        },
        {
         "metadata": "{}",
         "name": "validity",
         "type": "\"string\""
        }
       ],
       "type": "table"
      }
     },
     "output_type": "display_data"
    }
   ],
   "source": [
    "vw_with_discount_percentage = validate_discount_percentage(vw_with_order_date)\n",
    "\n",
    "# The final view will have the validity column populated\n",
    "# You can query the final view like:\n",
    "display(spark.sql(f\"SELECT validity,* FROM {vw_with_discount_percentage}\"))"
   ]
  }
 ],
 "metadata": {
  "application/vnd.databricks.v1+notebook": {
   "computePreferences": null,
   "dashboards": [],
   "environmentMetadata": {
    "base_environment": "",
    "client": "1"
   },
   "language": "python",
   "notebookMetadata": {
    "mostRecentlyExecutedCommandWithImplicitDF": {
     "commandId": 3554200394871278,
     "dataframes": [
      "_sqldf"
     ]
    },
    "pythonIndentUnit": 2
   },
   "notebookName": "SQL-glass-box-function-Demo",
   "widgets": {}
  }
 },
 "nbformat": 4,
 "nbformat_minor": 0
}
