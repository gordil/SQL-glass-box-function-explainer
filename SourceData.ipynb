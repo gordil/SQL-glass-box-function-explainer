{
 "cells": [
  {
   "cell_type": "code",
   "execution_count": 0,
   "metadata": {
    "application/vnd.databricks.v1+cell": {
     "cellMetadata": {
      "byteLimit": 2048000,
      "implicitDf": true,
      "rowLimit": 10000
     },
     "inputWidgets": {},
     "nuid": "fcec2568-7f71-46c0-b742-e863bd17a52d",
     "showTitle": false,
     "tableResultSettingsMap": {},
     "title": ""
    }
   },
   "outputs": [
    {
     "output_type": "display_data",
     "data": {
      "text/html": [
       "<style scoped>\n",
       "  .table-result-container {\n",
       "    max-height: 300px;\n",
       "    overflow: auto;\n",
       "  }\n",
       "  table, th, td {\n",
       "    border: 1px solid black;\n",
       "    border-collapse: collapse;\n",
       "  }\n",
       "  th, td {\n",
       "    padding: 5px;\n",
       "  }\n",
       "  th {\n",
       "    text-align: left;\n",
       "  }\n",
       "</style><div class='table-result-container'><table class='table-result'><thead style='background-color: white'><tr></tr></thead><tbody></tbody></table></div>"
      ]
     },
     "metadata": {
      "application/vnd.databricks.v1+output": {
       "addedWidgets": {},
       "aggData": [],
       "aggError": "",
       "aggOverflow": false,
       "aggSchema": [],
       "aggSeriesLimitReached": false,
       "aggType": "",
       "arguments": {},
       "columnCustomDisplayInfos": {},
       "data": [],
       "datasetInfos": [],
       "dbfsResultPath": null,
       "isJsonSchema": true,
       "metadata": {},
       "overflow": false,
       "plotOptions": {
        "customPlotOptions": {},
        "displayType": "table",
        "pivotAggregation": null,
        "pivotColumns": null,
        "xColumns": null,
        "yColumns": null
       },
       "removedWidgets": [],
       "schema": [],
       "type": "table"
      }
     },
     "output_type": "display_data"
    }
   ],
   "source": [
    "%sql\n",
    "CREATE OR REPLACE TEMP VIEW vw_SourceData AS\n",
    "SELECT \n",
    "    order_id,\n",
    "    customer_name,\n",
    "    customer_email,\n",
    "    phone_number,\n",
    "    order_date,\n",
    "    total_amount,\n",
    "    quantity,\n",
    "    discount_percentage,\n",
    "    'valid' AS validity\n",
    "FROM VALUES\n",
    "    (1, 'John Doe', 'john.doe@example.com', '1234567890', '2025-02-06', 150.0, 3, 10), -- Valid Order\n",
    "    (2, 'Jane Smith', 'jane.smith@example.com', '9876543210', '2025-02-06', 200.0, -2, 15), -- Invalid Quantity\n",
    "    (3, 'Alice Johnson', '', '1112233445', '2025-02-06', 120.0, 5, 30), -- Missing Email\n",
    "    (4, 'Bob Lee', 'bob.lee@example.com', '12345abcde', '2025-02-06', 90.0, 4, 60), -- Invalid Phone Number & Discount\n",
    "    (5, 'Charlie Brown', 'charlie.brown@example.com', '5551234567', '2025-02-07', 250.0, 1, 20), -- Order Date in the Future\n",
    "    (6, 'David Clark', 'david.clark@example.com', '1112233445', '2025-02-06', 180.0, 3, -10), -- Invalid Discount\n",
    "    (7, 'Emma White', 'emma.white@example.com', '3334445555', '2025-02-06', 100.0, 2, 25) -- Valid Order\n",
    "AS t (order_id, customer_name, customer_email, phone_number, order_date, total_amount, quantity, discount_percentage);"
   ]
  }
 ],
 "metadata": {
  "application/vnd.databricks.v1+notebook": {
   "computePreferences": null,
   "dashboards": [],
   "environmentMetadata": {
    "base_environment": "",
    "client": "1"
   },
   "language": "python",
   "notebookMetadata": {
    "mostRecentlyExecutedCommandWithImplicitDF": {
     "commandId": 1771344353944020,
     "dataframes": [
      "_sqldf"
     ]
    },
    "pythonIndentUnit": 2
   },
   "notebookName": "SourceData",
   "widgets": {}
  }
 },
 "nbformat": 4,
 "nbformat_minor": 0
}
